{
 "cells": [
  {
   "cell_type": "markdown",
   "id": "4072fa99",
   "metadata": {},
   "source": [
    "#  Importing Dependencies"
   ]
  },
  {
   "cell_type": "code",
   "execution_count": 1,
   "id": "06986018",
   "metadata": {},
   "outputs": [],
   "source": [
    "import pandas as pd\n",
    "import numpy as np\n",
    "import matplotlib.pyplot as plt\n",
    "%matplotlib inline"
   ]
  },
  {
   "cell_type": "markdown",
   "id": "e6490b35",
   "metadata": {},
   "source": [
    "# Importing Insurance DataSet"
   ]
  },
  {
   "cell_type": "code",
   "execution_count": 2,
   "id": "b0cf6f0d",
   "metadata": {
    "scrolled": true
   },
   "outputs": [
    {
     "data": {
      "text/html": [
       "<div>\n",
       "<style scoped>\n",
       "    .dataframe tbody tr th:only-of-type {\n",
       "        vertical-align: middle;\n",
       "    }\n",
       "\n",
       "    .dataframe tbody tr th {\n",
       "        vertical-align: top;\n",
       "    }\n",
       "\n",
       "    .dataframe thead th {\n",
       "        text-align: right;\n",
       "    }\n",
       "</style>\n",
       "<table border=\"1\" class=\"dataframe\">\n",
       "  <thead>\n",
       "    <tr style=\"text-align: right;\">\n",
       "      <th></th>\n",
       "      <th>age</th>\n",
       "      <th>sex</th>\n",
       "      <th>bmi</th>\n",
       "      <th>children</th>\n",
       "      <th>smoker</th>\n",
       "      <th>region</th>\n",
       "      <th>charges</th>\n",
       "    </tr>\n",
       "  </thead>\n",
       "  <tbody>\n",
       "    <tr>\n",
       "      <th>0</th>\n",
       "      <td>19</td>\n",
       "      <td>female</td>\n",
       "      <td>27.900</td>\n",
       "      <td>0</td>\n",
       "      <td>yes</td>\n",
       "      <td>southwest</td>\n",
       "      <td>16884.92400</td>\n",
       "    </tr>\n",
       "    <tr>\n",
       "      <th>1</th>\n",
       "      <td>18</td>\n",
       "      <td>male</td>\n",
       "      <td>33.770</td>\n",
       "      <td>1</td>\n",
       "      <td>no</td>\n",
       "      <td>southeast</td>\n",
       "      <td>1725.55230</td>\n",
       "    </tr>\n",
       "    <tr>\n",
       "      <th>2</th>\n",
       "      <td>28</td>\n",
       "      <td>male</td>\n",
       "      <td>33.000</td>\n",
       "      <td>3</td>\n",
       "      <td>no</td>\n",
       "      <td>southeast</td>\n",
       "      <td>4449.46200</td>\n",
       "    </tr>\n",
       "    <tr>\n",
       "      <th>3</th>\n",
       "      <td>33</td>\n",
       "      <td>male</td>\n",
       "      <td>22.705</td>\n",
       "      <td>0</td>\n",
       "      <td>no</td>\n",
       "      <td>northwest</td>\n",
       "      <td>21984.47061</td>\n",
       "    </tr>\n",
       "    <tr>\n",
       "      <th>4</th>\n",
       "      <td>32</td>\n",
       "      <td>male</td>\n",
       "      <td>28.880</td>\n",
       "      <td>0</td>\n",
       "      <td>no</td>\n",
       "      <td>northwest</td>\n",
       "      <td>3866.85520</td>\n",
       "    </tr>\n",
       "  </tbody>\n",
       "</table>\n",
       "</div>"
      ],
      "text/plain": [
       "   age     sex     bmi  children smoker     region      charges\n",
       "0   19  female  27.900         0    yes  southwest  16884.92400\n",
       "1   18    male  33.770         1     no  southeast   1725.55230\n",
       "2   28    male  33.000         3     no  southeast   4449.46200\n",
       "3   33    male  22.705         0     no  northwest  21984.47061\n",
       "4   32    male  28.880         0     no  northwest   3866.85520"
      ]
     },
     "execution_count": 2,
     "metadata": {},
     "output_type": "execute_result"
    }
   ],
   "source": [
    "df=pd.read_csv('Downloads/insurance.csv')\n",
    "\n",
    "df.head()"
   ]
  },
  {
   "cell_type": "markdown",
   "id": "40df1f96",
   "metadata": {},
   "source": [
    "# Checking for null values"
   ]
  },
  {
   "cell_type": "code",
   "execution_count": 3,
   "id": "34551ce4",
   "metadata": {},
   "outputs": [
    {
     "data": {
      "text/plain": [
       "age         0\n",
       "sex         0\n",
       "bmi         0\n",
       "children    0\n",
       "smoker      0\n",
       "region      0\n",
       "charges     0\n",
       "dtype: int64"
      ]
     },
     "execution_count": 3,
     "metadata": {},
     "output_type": "execute_result"
    }
   ],
   "source": [
    "df.isnull().sum() # found no null values"
   ]
  },
  {
   "cell_type": "markdown",
   "id": "fc4abd56",
   "metadata": {},
   "source": [
    "# Label Encoding"
   ]
  },
  {
   "cell_type": "code",
   "execution_count": 4,
   "id": "26172609",
   "metadata": {},
   "outputs": [
    {
     "data": {
      "text/plain": [
       "array([3, 2, 1, 0])"
      ]
     },
     "execution_count": 4,
     "metadata": {},
     "output_type": "execute_result"
    }
   ],
   "source": [
    "from sklearn import preprocessing\n",
    "\n",
    "label_encoder=preprocessing.LabelEncoder()\n",
    "\n",
    "df['sex']=label_encoder.fit_transform(df['sex'])\n",
    "df['smoker']=label_encoder.fit_transform(df['smoker'])\n",
    "df['region']=label_encoder.fit_transform(df['region'])\n",
    "df['sex'].unique()\n",
    "df['smoker'].unique()\n",
    "df['region'].unique()"
   ]
  },
  {
   "cell_type": "code",
   "execution_count": 5,
   "id": "77b893e7",
   "metadata": {},
   "outputs": [
    {
     "data": {
      "text/html": [
       "<div>\n",
       "<style scoped>\n",
       "    .dataframe tbody tr th:only-of-type {\n",
       "        vertical-align: middle;\n",
       "    }\n",
       "\n",
       "    .dataframe tbody tr th {\n",
       "        vertical-align: top;\n",
       "    }\n",
       "\n",
       "    .dataframe thead th {\n",
       "        text-align: right;\n",
       "    }\n",
       "</style>\n",
       "<table border=\"1\" class=\"dataframe\">\n",
       "  <thead>\n",
       "    <tr style=\"text-align: right;\">\n",
       "      <th></th>\n",
       "      <th>age</th>\n",
       "      <th>sex</th>\n",
       "      <th>bmi</th>\n",
       "      <th>children</th>\n",
       "      <th>smoker</th>\n",
       "      <th>region</th>\n",
       "      <th>charges</th>\n",
       "    </tr>\n",
       "  </thead>\n",
       "  <tbody>\n",
       "    <tr>\n",
       "      <th>0</th>\n",
       "      <td>19</td>\n",
       "      <td>0</td>\n",
       "      <td>27.900</td>\n",
       "      <td>0</td>\n",
       "      <td>1</td>\n",
       "      <td>3</td>\n",
       "      <td>16884.92400</td>\n",
       "    </tr>\n",
       "    <tr>\n",
       "      <th>1</th>\n",
       "      <td>18</td>\n",
       "      <td>1</td>\n",
       "      <td>33.770</td>\n",
       "      <td>1</td>\n",
       "      <td>0</td>\n",
       "      <td>2</td>\n",
       "      <td>1725.55230</td>\n",
       "    </tr>\n",
       "    <tr>\n",
       "      <th>2</th>\n",
       "      <td>28</td>\n",
       "      <td>1</td>\n",
       "      <td>33.000</td>\n",
       "      <td>3</td>\n",
       "      <td>0</td>\n",
       "      <td>2</td>\n",
       "      <td>4449.46200</td>\n",
       "    </tr>\n",
       "    <tr>\n",
       "      <th>3</th>\n",
       "      <td>33</td>\n",
       "      <td>1</td>\n",
       "      <td>22.705</td>\n",
       "      <td>0</td>\n",
       "      <td>0</td>\n",
       "      <td>1</td>\n",
       "      <td>21984.47061</td>\n",
       "    </tr>\n",
       "    <tr>\n",
       "      <th>4</th>\n",
       "      <td>32</td>\n",
       "      <td>1</td>\n",
       "      <td>28.880</td>\n",
       "      <td>0</td>\n",
       "      <td>0</td>\n",
       "      <td>1</td>\n",
       "      <td>3866.85520</td>\n",
       "    </tr>\n",
       "    <tr>\n",
       "      <th>...</th>\n",
       "      <td>...</td>\n",
       "      <td>...</td>\n",
       "      <td>...</td>\n",
       "      <td>...</td>\n",
       "      <td>...</td>\n",
       "      <td>...</td>\n",
       "      <td>...</td>\n",
       "    </tr>\n",
       "    <tr>\n",
       "      <th>1333</th>\n",
       "      <td>50</td>\n",
       "      <td>1</td>\n",
       "      <td>30.970</td>\n",
       "      <td>3</td>\n",
       "      <td>0</td>\n",
       "      <td>1</td>\n",
       "      <td>10600.54830</td>\n",
       "    </tr>\n",
       "    <tr>\n",
       "      <th>1334</th>\n",
       "      <td>18</td>\n",
       "      <td>0</td>\n",
       "      <td>31.920</td>\n",
       "      <td>0</td>\n",
       "      <td>0</td>\n",
       "      <td>0</td>\n",
       "      <td>2205.98080</td>\n",
       "    </tr>\n",
       "    <tr>\n",
       "      <th>1335</th>\n",
       "      <td>18</td>\n",
       "      <td>0</td>\n",
       "      <td>36.850</td>\n",
       "      <td>0</td>\n",
       "      <td>0</td>\n",
       "      <td>2</td>\n",
       "      <td>1629.83350</td>\n",
       "    </tr>\n",
       "    <tr>\n",
       "      <th>1336</th>\n",
       "      <td>21</td>\n",
       "      <td>0</td>\n",
       "      <td>25.800</td>\n",
       "      <td>0</td>\n",
       "      <td>0</td>\n",
       "      <td>3</td>\n",
       "      <td>2007.94500</td>\n",
       "    </tr>\n",
       "    <tr>\n",
       "      <th>1337</th>\n",
       "      <td>61</td>\n",
       "      <td>0</td>\n",
       "      <td>29.070</td>\n",
       "      <td>0</td>\n",
       "      <td>1</td>\n",
       "      <td>1</td>\n",
       "      <td>29141.36030</td>\n",
       "    </tr>\n",
       "  </tbody>\n",
       "</table>\n",
       "<p>1338 rows × 7 columns</p>\n",
       "</div>"
      ],
      "text/plain": [
       "      age  sex     bmi  children  smoker  region      charges\n",
       "0      19    0  27.900         0       1       3  16884.92400\n",
       "1      18    1  33.770         1       0       2   1725.55230\n",
       "2      28    1  33.000         3       0       2   4449.46200\n",
       "3      33    1  22.705         0       0       1  21984.47061\n",
       "4      32    1  28.880         0       0       1   3866.85520\n",
       "...   ...  ...     ...       ...     ...     ...          ...\n",
       "1333   50    1  30.970         3       0       1  10600.54830\n",
       "1334   18    0  31.920         0       0       0   2205.98080\n",
       "1335   18    0  36.850         0       0       2   1629.83350\n",
       "1336   21    0  25.800         0       0       3   2007.94500\n",
       "1337   61    0  29.070         0       1       1  29141.36030\n",
       "\n",
       "[1338 rows x 7 columns]"
      ]
     },
     "execution_count": 5,
     "metadata": {},
     "output_type": "execute_result"
    }
   ],
   "source": [
    "# Label encoded DataFrame\n",
    "df"
   ]
  },
  {
   "cell_type": "markdown",
   "id": "b682e5ac",
   "metadata": {},
   "source": [
    "# Feature Scaling "
   ]
  },
  {
   "cell_type": "code",
   "execution_count": 6,
   "id": "6ae3fdc2",
   "metadata": {},
   "outputs": [],
   "source": [
    "from sklearn import preprocessing \n",
    "\n",
    "features=['age','sex','bmi','children','region','smoker']\n",
    "\n",
    "# Separating out the features\n",
    "x=df.loc[:,features].values\n",
    "\n",
    "# Separating out the Target \n",
    "y=df.loc[:,['charges']].values\n",
    "\n",
    "min_max_scaler=preprocessing.MinMaxScaler(feature_range=(0,1))\n",
    "min_max_scaler=min_max_scaler.fit_transform(x)"
   ]
  },
  {
   "cell_type": "markdown",
   "id": "9fb0d43a",
   "metadata": {},
   "source": [
    "# Standardization"
   ]
  },
  {
   "cell_type": "code",
   "execution_count": 7,
   "id": "24c0a0a3",
   "metadata": {},
   "outputs": [],
   "source": [
    "from sklearn.preprocessing import StandardScaler \n",
    "\n",
    "scaler=StandardScaler()\n",
    "\n",
    "scaled_data=scaler.fit_transform(min_max_scaler)"
   ]
  },
  {
   "cell_type": "code",
   "execution_count": 8,
   "id": "9b0ecabe",
   "metadata": {},
   "outputs": [
    {
     "data": {
      "text/plain": [
       "array([[-1.43876426, -1.0105187 , -0.45332   , -0.90861367,  1.34390459,\n",
       "         1.97058663],\n",
       "       [-1.50996545,  0.98959079,  0.5096211 , -0.07876719,  0.43849455,\n",
       "        -0.5074631 ],\n",
       "       [-0.79795355,  0.98959079,  0.38330685,  1.58092576,  0.43849455,\n",
       "        -0.5074631 ],\n",
       "       ...,\n",
       "       [-1.50996545, -1.0105187 ,  1.0148781 , -0.90861367,  0.43849455,\n",
       "        -0.5074631 ],\n",
       "       [-1.29636188, -1.0105187 , -0.79781341, -0.90861367,  1.34390459,\n",
       "        -0.5074631 ],\n",
       "       [ 1.55168573, -1.0105187 , -0.26138796, -0.90861367, -0.46691549,\n",
       "         1.97058663]])"
      ]
     },
     "execution_count": 8,
     "metadata": {},
     "output_type": "execute_result"
    }
   ],
   "source": [
    "scaled_data"
   ]
  },
  {
   "cell_type": "markdown",
   "id": "087c8ca2",
   "metadata": {},
   "source": [
    "# PCA"
   ]
  },
  {
   "cell_type": "code",
   "execution_count": 9,
   "id": "02b572c4",
   "metadata": {},
   "outputs": [],
   "source": [
    "#instantiate pca\n",
    "from sklearn.decomposition import PCA\n",
    "\n",
    "# Creating Dummy PCA object to decide the number of components based on Scree Plot\n",
    "cpca=PCA(n_components=None)"
   ]
  },
  {
   "cell_type": "code",
   "execution_count": 10,
   "id": "ef722457",
   "metadata": {},
   "outputs": [
    {
     "data": {
      "text/plain": [
       "array([[ 0.4138055 ,  1.11914688, -1.78482549,  0.68409261,  2.1492386 ,\n",
       "        -0.3391514 ],\n",
       "       [-0.12275981,  0.8221422 , -1.00416857,  0.83286115, -1.13903812,\n",
       "         0.53347163],\n",
       "       [-0.62442365,  0.6374776 ,  0.55788538,  1.54161695, -1.05905363,\n",
       "         0.32614469],\n",
       "       ...,\n",
       "       [-0.01196397, -0.53097399, -1.89164153,  0.52494884,  0.19458612,\n",
       "         1.19694489],\n",
       "       [ 0.65020071, -0.58750209, -1.93950587,  1.06112088,  0.40162833,\n",
       "        -0.64070276],\n",
       "       [ 0.10392973,  0.09896763,  0.44724209, -1.7904566 ,  2.18741871,\n",
       "        -0.4613501 ]])"
      ]
     },
     "execution_count": 10,
     "metadata": {},
     "output_type": "execute_result"
    }
   ],
   "source": [
    "#fitting and applying dimensionaity reduction\n",
    "cpca.fit_transform(scaled_data)"
   ]
  },
  {
   "cell_type": "markdown",
   "id": "bc7f1052",
   "metadata": {},
   "source": [
    "# Scree Plot Visualization"
   ]
  },
  {
   "cell_type": "code",
   "execution_count": 11,
   "id": "f205840d",
   "metadata": {},
   "outputs": [
    {
     "data": {
      "text/plain": [
       "array([0.20060309, 0.1813664 , 0.16992314, 0.16087702, 0.15399424,\n",
       "       0.1332361 ])"
      ]
     },
     "execution_count": 11,
     "metadata": {},
     "output_type": "execute_result"
    }
   ],
   "source": [
    "# Percentage of variance explained by each of the selected components\n",
    "cpca.explained_variance_ratio_"
   ]
  },
  {
   "cell_type": "code",
   "execution_count": 12,
   "id": "b042ada1",
   "metadata": {},
   "outputs": [
    {
     "data": {
      "text/plain": [
       "Text(0.5, 1.0, 'Scree Plot of Variance explained ratio for each principal component')"
      ]
     },
     "execution_count": 12,
     "metadata": {},
     "output_type": "execute_result"
    },
    {
     "data": {
      "image/png": "[encoded data removed]",
      "text/plain": [
       "<Figure size 1296x432 with 1 Axes>"
      ]
     },
     "metadata": {
      "needs_background": "light"
     },
     "output_type": "display_data"
    }
   ],
   "source": [
    "num_components=len(cpca.explained_variance_ratio_)\n",
    "\n",
    "# indexing\n",
    "index=np.arange(num_components)\n",
    "\n",
    "# values of respective indices\n",
    "values=cpca.explained_variance_ratio_\n",
    "\n",
    "# define the graph\n",
    "plt.figure(figsize=(18,6))\n",
    "ax=plt.subplot(111)\n",
    "\n",
    "# Cummulative sum of variances\n",
    "cummulative=np.cumsum(values)\n",
    "\n",
    "ax.bar(index,values)\n",
    "ax.plot(index,cummulative)\n",
    "\n",
    "# add annotation to our graph\n",
    "for val in range(num_components):\n",
    "    ax.annotate(r\"%s\"%((str(values[val]*100)[:3])),(index[val],values[val]),fontsize=16)\n",
    "#setting tick parameters\n",
    "\n",
    "ax.xaxis.set_tick_params(width=1)\n",
    "ax.yaxis.set_tick_params(width=3,length=15)\n",
    "\n",
    "#labelling x and y axis\n",
    "\n",
    "ax.set_xlabel('Principal Component Values')\n",
    "ax.set_ylabel('Variance Explained Percentage')\n",
    "plt.title('Scree Plot of Variance explained ratio for each principal component')"
   ]
  },
  {
   "cell_type": "code",
   "execution_count": 13,
   "id": "2fe004a5",
   "metadata": {},
   "outputs": [],
   "source": [
    "# From the above plot we can say Majority of variance can be seen in first 3 components\n",
    "# no. of components for PCA should be 3"
   ]
  },
  {
   "cell_type": "code",
   "execution_count": 14,
   "id": "45406167",
   "metadata": {},
   "outputs": [],
   "source": [
    "# Creating PCA object with 5 components\n",
    "pca=PCA(n_components=5)\n",
    "\n",
    "new_df=pca.fit_transform(scaled_data)"
   ]
  },
  {
   "cell_type": "code",
   "execution_count": 15,
   "id": "bb5897a0",
   "metadata": {},
   "outputs": [
    {
     "name": "stdout",
     "output_type": "stream",
     "text": [
      "Eigen Vectors are [[-3.96111907e-01 -1.52952233e-01 -6.89751591e-01 -1.84825089e-01\n",
      "  -5.56136153e-01 -2.22705828e-02]\n",
      " [-3.31382274e-01  6.63744948e-01  1.99346420e-04  3.09145746e-02\n",
      "   1.61448339e-02  6.69635742e-01]\n",
      " [ 4.84880595e-01  1.08676800e-01 -1.39563164e-01  7.22533876e-01\n",
      "  -4.46672235e-01  1.09685902e-01]\n",
      " [-5.62929527e-01 -1.57014717e-01 -1.51944787e-01  6.56974251e-01\n",
      "   4.20789205e-01 -1.63373154e-01]\n",
      " [ 9.57719586e-02 -6.77767805e-01 -3.63916124e-02  4.33630385e-03\n",
      "   1.33219435e-01  7.15798829e-01]]\n",
      "\n",
      "\n",
      "Eigen Values are [1.20451879 1.08901232 1.02030138 0.9659841  0.92465654]\n"
     ]
    }
   ],
   "source": [
    "# Eigen Vectors and Eigen Values\n",
    "\n",
    "print('Eigen Vectors are',pca.components_)\n",
    "print('\\n')\n",
    "print('Eigen Values are',pca.explained_variance_)"
   ]
  },
  {
   "cell_type": "code",
   "execution_count": 16,
   "id": "786ad4be",
   "metadata": {},
   "outputs": [
    {
     "data": {
      "text/plain": [
       "array([[ 0.4138055 ,  1.11914688, -1.78482549,  0.68409261,  2.1492386 ],\n",
       "       [-0.12275981,  0.8221422 , -1.00416857,  0.83286115, -1.13903812],\n",
       "       [-0.62442365,  0.6374776 ,  0.55788538,  1.54161695, -1.05905363],\n",
       "       ...,\n",
       "       [-0.01196397, -0.53097399, -1.89164153,  0.52494884,  0.19458612],\n",
       "       [ 0.65020071, -0.58750209, -1.93950587,  1.06112088,  0.40162833],\n",
       "       [ 0.10392973,  0.09896763,  0.44724209, -1.7904566 ,  2.18741871]])"
      ]
     },
     "execution_count": 16,
     "metadata": {},
     "output_type": "execute_result"
    }
   ],
   "source": [
    "# These are our principle component vaues\n",
    "new_df"
   ]
  },
  {
   "cell_type": "code",
   "execution_count": 17,
   "id": "4e4181c8",
   "metadata": {},
   "outputs": [
    {
     "data": {
      "text/plain": [
       "(1338, 6)"
      ]
     },
     "execution_count": 17,
     "metadata": {},
     "output_type": "execute_result"
    }
   ],
   "source": [
    "# Before PCA there are 6 components\n",
    "scaled_data.shape"
   ]
  },
  {
   "cell_type": "code",
   "execution_count": 18,
   "id": "7587aaf4",
   "metadata": {},
   "outputs": [
    {
     "data": {
      "text/plain": [
       "(1338, 5)"
      ]
     },
     "execution_count": 18,
     "metadata": {},
     "output_type": "execute_result"
    }
   ],
   "source": [
    "# After PCA there are 5 components\n",
    "new_df.shape"
   ]
  },
  {
   "cell_type": "code",
   "execution_count": 19,
   "id": "6e83337a",
   "metadata": {},
   "outputs": [
    {
     "data": {
      "text/html": [
       "<div>\n",
       "<style scoped>\n",
       "    .dataframe tbody tr th:only-of-type {\n",
       "        vertical-align: middle;\n",
       "    }\n",
       "\n",
       "    .dataframe tbody tr th {\n",
       "        vertical-align: top;\n",
       "    }\n",
       "\n",
       "    .dataframe thead th {\n",
       "        text-align: right;\n",
       "    }\n",
       "</style>\n",
       "<table border=\"1\" class=\"dataframe\">\n",
       "  <thead>\n",
       "    <tr style=\"text-align: right;\">\n",
       "      <th></th>\n",
       "      <th>Principal Component 0</th>\n",
       "      <th>Principal Component 1</th>\n",
       "      <th>Principal Component 2</th>\n",
       "      <th>Principal Component 3</th>\n",
       "      <th>Principal Component 4</th>\n",
       "      <th>charges</th>\n",
       "    </tr>\n",
       "  </thead>\n",
       "  <tbody>\n",
       "    <tr>\n",
       "      <th>0</th>\n",
       "      <td>0.413805</td>\n",
       "      <td>1.119147</td>\n",
       "      <td>-1.784825</td>\n",
       "      <td>0.684093</td>\n",
       "      <td>2.149239</td>\n",
       "      <td>16884.92400</td>\n",
       "    </tr>\n",
       "    <tr>\n",
       "      <th>1</th>\n",
       "      <td>-0.122760</td>\n",
       "      <td>0.822142</td>\n",
       "      <td>-1.004169</td>\n",
       "      <td>0.832861</td>\n",
       "      <td>-1.139038</td>\n",
       "      <td>1725.55230</td>\n",
       "    </tr>\n",
       "    <tr>\n",
       "      <th>2</th>\n",
       "      <td>-0.624424</td>\n",
       "      <td>0.637478</td>\n",
       "      <td>0.557885</td>\n",
       "      <td>1.541617</td>\n",
       "      <td>-1.059054</td>\n",
       "      <td>4449.46200</td>\n",
       "    </tr>\n",
       "    <tr>\n",
       "      <th>3</th>\n",
       "      <td>1.363097</td>\n",
       "      <td>0.427586</td>\n",
       "      <td>-0.428150</td>\n",
       "      <td>-0.418729</td>\n",
       "      <td>-1.094912</td>\n",
       "      <td>21984.47061</td>\n",
       "    </tr>\n",
       "    <tr>\n",
       "      <th>4</th>\n",
       "      <td>0.692600</td>\n",
       "      <td>0.451383</td>\n",
       "      <td>-0.604048</td>\n",
       "      <td>-0.532564</td>\n",
       "      <td>-1.138595</td>\n",
       "      <td>3866.85520</td>\n",
       "    </tr>\n",
       "    <tr>\n",
       "      <th>...</th>\n",
       "      <td>...</td>\n",
       "      <td>...</td>\n",
       "      <td>...</td>\n",
       "      <td>...</td>\n",
       "      <td>...</td>\n",
       "      <td>...</td>\n",
       "    </tr>\n",
       "    <tr>\n",
       "      <th>1333</th>\n",
       "      <td>-0.511678</td>\n",
       "      <td>0.103708</td>\n",
       "      <td>1.768313</td>\n",
       "      <td>0.329442</td>\n",
       "      <td>-1.017533</td>\n",
       "      <td>10600.54830</td>\n",
       "    </tr>\n",
       "    <tr>\n",
       "      <th>1334</th>\n",
       "      <td>1.552928</td>\n",
       "      <td>-0.560371</td>\n",
       "      <td>-0.969928</td>\n",
       "      <td>-0.114141</td>\n",
       "      <td>-0.017219</td>\n",
       "      <td>2205.98080</td>\n",
       "    </tr>\n",
       "    <tr>\n",
       "      <th>1335</th>\n",
       "      <td>-0.011964</td>\n",
       "      <td>-0.530974</td>\n",
       "      <td>-1.891642</td>\n",
       "      <td>0.524949</td>\n",
       "      <td>0.194586</td>\n",
       "      <td>1629.83350</td>\n",
       "    </tr>\n",
       "    <tr>\n",
       "      <th>1336</th>\n",
       "      <td>0.650201</td>\n",
       "      <td>-0.587502</td>\n",
       "      <td>-1.939506</td>\n",
       "      <td>1.061121</td>\n",
       "      <td>0.401628</td>\n",
       "      <td>2007.94500</td>\n",
       "    </tr>\n",
       "    <tr>\n",
       "      <th>1337</th>\n",
       "      <td>0.103930</td>\n",
       "      <td>0.098968</td>\n",
       "      <td>0.447242</td>\n",
       "      <td>-1.790457</td>\n",
       "      <td>2.187419</td>\n",
       "      <td>29141.36030</td>\n",
       "    </tr>\n",
       "  </tbody>\n",
       "</table>\n",
       "<p>1338 rows × 6 columns</p>\n",
       "</div>"
      ],
      "text/plain": [
       "      Principal Component 0  Principal Component 1  Principal Component 2  \\\n",
       "0                  0.413805               1.119147              -1.784825   \n",
       "1                 -0.122760               0.822142              -1.004169   \n",
       "2                 -0.624424               0.637478               0.557885   \n",
       "3                  1.363097               0.427586              -0.428150   \n",
       "4                  0.692600               0.451383              -0.604048   \n",
       "...                     ...                    ...                    ...   \n",
       "1333              -0.511678               0.103708               1.768313   \n",
       "1334               1.552928              -0.560371              -0.969928   \n",
       "1335              -0.011964              -0.530974              -1.891642   \n",
       "1336               0.650201              -0.587502              -1.939506   \n",
       "1337               0.103930               0.098968               0.447242   \n",
       "\n",
       "      Principal Component 3  Principal Component 4      charges  \n",
       "0                  0.684093               2.149239  16884.92400  \n",
       "1                  0.832861              -1.139038   1725.55230  \n",
       "2                  1.541617              -1.059054   4449.46200  \n",
       "3                 -0.418729              -1.094912  21984.47061  \n",
       "4                 -0.532564              -1.138595   3866.85520  \n",
       "...                     ...                    ...          ...  \n",
       "1333               0.329442              -1.017533  10600.54830  \n",
       "1334              -0.114141              -0.017219   2205.98080  \n",
       "1335               0.524949               0.194586   1629.83350  \n",
       "1336               1.061121               0.401628   2007.94500  \n",
       "1337              -1.790457               2.187419  29141.36030  \n",
       "\n",
       "[1338 rows x 6 columns]"
      ]
     },
     "execution_count": 19,
     "metadata": {},
     "output_type": "execute_result"
    }
   ],
   "source": [
    "# Creating Final Data Frame\n",
    "f_df=pd.DataFrame(data=new_df,columns=['Principal Component 0','Principal Component 1','Principal Component 2','Principal Component 3','Principal Component 4'])\n",
    "final_df=pd.concat([f_df,df[['charges']]],axis=1)\n",
    "final_df"
   ]
  },
  {
   "cell_type": "markdown",
   "id": "218a40d8",
   "metadata": {},
   "source": [
    "# Train Test Splitting"
   ]
  },
  {
   "cell_type": "code",
   "execution_count": 20,
   "id": "ce42d45a",
   "metadata": {},
   "outputs": [],
   "source": [
    "from sklearn.model_selection import train_test_split\n",
    "\n",
    "x=final_df.drop(columns='charges',axis=1)\n",
    "\n",
    "y=final_df['charges']\n",
    "\n",
    "X_train,X_test,Y_train,Y_test=train_test_split(x,y,test_size=0.15,random_state = 2)"
   ]
  },
  {
   "cell_type": "markdown",
   "id": "feb79469",
   "metadata": {},
   "source": [
    "# Building Random Forest Regressor"
   ]
  },
  {
   "cell_type": "code",
   "execution_count": 21,
   "id": "3e124092",
   "metadata": {},
   "outputs": [
    {
     "data": {
      "text/plain": [
       "RandomForestRegressor(random_state=2)"
      ]
     },
     "execution_count": 21,
     "metadata": {},
     "output_type": "execute_result"
    }
   ],
   "source": [
    "#instantiating random forest regressor\n",
    "from sklearn.ensemble import RandomForestRegressor\n",
    "\n",
    "rf = RandomForestRegressor(random_state = 2)\n",
    "\n",
    "# Training the model\n",
    "rf.fit(X_train,Y_train)  "
   ]
  },
  {
   "cell_type": "code",
   "execution_count": 22,
   "id": "80d8b8a7",
   "metadata": {},
   "outputs": [],
   "source": [
    "# Predicting using our Data\n",
    "Y_pred=rf.predict(X_test)"
   ]
  },
  {
   "cell_type": "code",
   "execution_count": 23,
   "id": "fc733099",
   "metadata": {},
   "outputs": [
    {
     "data": {
      "text/plain": [
       "array([17114.4735526])"
      ]
     },
     "execution_count": 23,
     "metadata": {},
     "output_type": "execute_result"
    }
   ],
   "source": [
    "# sample prediction of single data point\n",
    "rf.predict([[0.413805,1.119147,-1.784825,0.684093,2.149239]])"
   ]
  },
  {
   "cell_type": "markdown",
   "id": "833c4d82",
   "metadata": {},
   "source": [
    "# Model Evaluation "
   ]
  },
  {
   "cell_type": "code",
   "execution_count": 24,
   "id": "adf5d743",
   "metadata": {},
   "outputs": [
    {
     "name": "stdout",
     "output_type": "stream",
     "text": [
      "mean squared error is 27508893.457358185\n",
      "Root Mean Squared Error is 5244.892130192783\n",
      "R2 Score is 0.8126085148543778\n"
     ]
    }
   ],
   "source": [
    "# importing regression metrics\n",
    "\n",
    "import sklearn.metrics as metrics\n",
    "\n",
    "# Finding mean_squared_error\n",
    "mse=metrics.mean_squared_error(Y_test,Y_pred)\n",
    "print('mean squared error is',mse)\n",
    "\n",
    "# Finding Root Mean Squared Error\n",
    "rmse=np.sqrt(mse)\n",
    "print('Root Mean Squared Error is',rmse)\n",
    "\n",
    "# Finding R2 Score\n",
    "r2=metrics.r2_score(Y_test,Y_pred)\n",
    "print('R2 Score is',r2)"
   ]
  },
  {
   "cell_type": "markdown",
   "id": "bd0006e1",
   "metadata": {},
   "source": [
    "# Random Forest Visualization"
   ]
  },
  {
   "cell_type": "code",
   "execution_count": 25,
   "id": "e19f5328",
   "metadata": {},
   "outputs": [
    {
     "data": {
      "text/html": [
       "<div>\n",
       "<style scoped>\n",
       "    .dataframe tbody tr th:only-of-type {\n",
       "        vertical-align: middle;\n",
       "    }\n",
       "\n",
       "    .dataframe tbody tr th {\n",
       "        vertical-align: top;\n",
       "    }\n",
       "\n",
       "    .dataframe thead th {\n",
       "        text-align: right;\n",
       "    }\n",
       "</style>\n",
       "<table border=\"1\" class=\"dataframe\">\n",
       "  <thead>\n",
       "    <tr style=\"text-align: right;\">\n",
       "      <th></th>\n",
       "      <th>Principal Component 0</th>\n",
       "      <th>Principal Component 1</th>\n",
       "      <th>Principal Component 2</th>\n",
       "      <th>Principal Component 3</th>\n",
       "      <th>Principal Component 4</th>\n",
       "    </tr>\n",
       "  </thead>\n",
       "  <tbody>\n",
       "    <tr>\n",
       "      <th>count</th>\n",
       "      <td>1.338000e+03</td>\n",
       "      <td>1.338000e+03</td>\n",
       "      <td>1.338000e+03</td>\n",
       "      <td>1.338000e+03</td>\n",
       "      <td>1.338000e+03</td>\n",
       "    </tr>\n",
       "    <tr>\n",
       "      <th>mean</th>\n",
       "      <td>-2.634498e-17</td>\n",
       "      <td>7.680495e-17</td>\n",
       "      <td>1.468681e-17</td>\n",
       "      <td>-4.713054e-17</td>\n",
       "      <td>-1.659526e-18</td>\n",
       "    </tr>\n",
       "    <tr>\n",
       "      <th>std</th>\n",
       "      <td>1.097506e+00</td>\n",
       "      <td>1.043558e+00</td>\n",
       "      <td>1.010100e+00</td>\n",
       "      <td>9.828449e-01</td>\n",
       "      <td>9.615906e-01</td>\n",
       "    </tr>\n",
       "    <tr>\n",
       "      <th>min</th>\n",
       "      <td>-2.952106e+00</td>\n",
       "      <td>-1.645490e+00</td>\n",
       "      <td>-2.345104e+00</td>\n",
       "      <td>-2.598977e+00</td>\n",
       "      <td>-1.415931e+00</td>\n",
       "    </tr>\n",
       "    <tr>\n",
       "      <th>25%</th>\n",
       "      <td>-7.641456e-01</td>\n",
       "      <td>-8.807483e-01</td>\n",
       "      <td>-7.362890e-01</td>\n",
       "      <td>-6.481126e-01</td>\n",
       "      <td>-9.792484e-01</td>\n",
       "    </tr>\n",
       "    <tr>\n",
       "      <th>50%</th>\n",
       "      <td>2.275687e-02</td>\n",
       "      <td>1.730268e-02</td>\n",
       "      <td>-4.492334e-02</td>\n",
       "      <td>7.792339e-03</td>\n",
       "      <td>2.170103e-01</td>\n",
       "    </tr>\n",
       "    <tr>\n",
       "      <th>75%</th>\n",
       "      <td>7.569522e-01</td>\n",
       "      <td>6.525030e-01</td>\n",
       "      <td>6.918888e-01</td>\n",
       "      <td>6.526881e-01</td>\n",
       "      <td>5.151341e-01</td>\n",
       "    </tr>\n",
       "    <tr>\n",
       "      <th>max</th>\n",
       "      <td>3.052880e+00</td>\n",
       "      <td>2.507119e+00</td>\n",
       "      <td>3.091652e+00</td>\n",
       "      <td>3.797430e+00</td>\n",
       "      <td>2.442997e+00</td>\n",
       "    </tr>\n",
       "  </tbody>\n",
       "</table>\n",
       "</div>"
      ],
      "text/plain": [
       "       Principal Component 0  Principal Component 1  Principal Component 2  \\\n",
       "count           1.338000e+03           1.338000e+03           1.338000e+03   \n",
       "mean           -2.634498e-17           7.680495e-17           1.468681e-17   \n",
       "std             1.097506e+00           1.043558e+00           1.010100e+00   \n",
       "min            -2.952106e+00          -1.645490e+00          -2.345104e+00   \n",
       "25%            -7.641456e-01          -8.807483e-01          -7.362890e-01   \n",
       "50%             2.275687e-02           1.730268e-02          -4.492334e-02   \n",
       "75%             7.569522e-01           6.525030e-01           6.918888e-01   \n",
       "max             3.052880e+00           2.507119e+00           3.091652e+00   \n",
       "\n",
       "       Principal Component 3  Principal Component 4  \n",
       "count           1.338000e+03           1.338000e+03  \n",
       "mean           -4.713054e-17          -1.659526e-18  \n",
       "std             9.828449e-01           9.615906e-01  \n",
       "min            -2.598977e+00          -1.415931e+00  \n",
       "25%            -6.481126e-01          -9.792484e-01  \n",
       "50%             7.792339e-03           2.170103e-01  \n",
       "75%             6.526881e-01           5.151341e-01  \n",
       "max             3.797430e+00           2.442997e+00  "
      ]
     },
     "execution_count": 25,
     "metadata": {},
     "output_type": "execute_result"
    }
   ],
   "source": [
    "x.describe() \n",
    "# To find minimum value and maximum value from x  "
   ]
  },
  {
   "cell_type": "code",
   "execution_count": 26,
   "id": "17a0a46b",
   "metadata": {},
   "outputs": [],
   "source": [
    "# From the above data minimum value is -2.952106e+00 and maximum value is 3.797430e+00"
   ]
  },
  {
   "cell_type": "code",
   "execution_count": 27,
   "id": "b7f38634",
   "metadata": {},
   "outputs": [],
   "source": [
    "# Creating X grid for a continuous plot\n",
    "x_grid=np.arange(-2.952106e+00,3.797430e+00,0.01)"
   ]
  },
  {
   "cell_type": "code",
   "execution_count": 28,
   "id": "a2e95bf6",
   "metadata": {},
   "outputs": [],
   "source": [
    "# Creating a dataframe which will be used for predicting values later,then we will plot fitting line\n",
    "X_grid=pd.DataFrame(x_grid)\n",
    "X_grid['1']=x_grid\n",
    "X_grid['2']=x_grid\n",
    "X_grid['3']=x_grid\n",
    "X_grid['4']=x_grid"
   ]
  },
  {
   "cell_type": "code",
   "execution_count": 29,
   "id": "4df1ba1e",
   "metadata": {},
   "outputs": [
    {
     "data": {
      "text/html": [
       "<div>\n",
       "<style scoped>\n",
       "    .dataframe tbody tr th:only-of-type {\n",
       "        vertical-align: middle;\n",
       "    }\n",
       "\n",
       "    .dataframe tbody tr th {\n",
       "        vertical-align: top;\n",
       "    }\n",
       "\n",
       "    .dataframe thead th {\n",
       "        text-align: right;\n",
       "    }\n",
       "</style>\n",
       "<table border=\"1\" class=\"dataframe\">\n",
       "  <thead>\n",
       "    <tr style=\"text-align: right;\">\n",
       "      <th></th>\n",
       "      <th>0</th>\n",
       "      <th>1</th>\n",
       "      <th>2</th>\n",
       "      <th>3</th>\n",
       "      <th>4</th>\n",
       "    </tr>\n",
       "  </thead>\n",
       "  <tbody>\n",
       "    <tr>\n",
       "      <th>0</th>\n",
       "      <td>-2.952106</td>\n",
       "      <td>-2.952106</td>\n",
       "      <td>-2.952106</td>\n",
       "      <td>-2.952106</td>\n",
       "      <td>-2.952106</td>\n",
       "    </tr>\n",
       "    <tr>\n",
       "      <th>1</th>\n",
       "      <td>-2.942106</td>\n",
       "      <td>-2.942106</td>\n",
       "      <td>-2.942106</td>\n",
       "      <td>-2.942106</td>\n",
       "      <td>-2.942106</td>\n",
       "    </tr>\n",
       "    <tr>\n",
       "      <th>2</th>\n",
       "      <td>-2.932106</td>\n",
       "      <td>-2.932106</td>\n",
       "      <td>-2.932106</td>\n",
       "      <td>-2.932106</td>\n",
       "      <td>-2.932106</td>\n",
       "    </tr>\n",
       "    <tr>\n",
       "      <th>3</th>\n",
       "      <td>-2.922106</td>\n",
       "      <td>-2.922106</td>\n",
       "      <td>-2.922106</td>\n",
       "      <td>-2.922106</td>\n",
       "      <td>-2.922106</td>\n",
       "    </tr>\n",
       "    <tr>\n",
       "      <th>4</th>\n",
       "      <td>-2.912106</td>\n",
       "      <td>-2.912106</td>\n",
       "      <td>-2.912106</td>\n",
       "      <td>-2.912106</td>\n",
       "      <td>-2.912106</td>\n",
       "    </tr>\n",
       "    <tr>\n",
       "      <th>...</th>\n",
       "      <td>...</td>\n",
       "      <td>...</td>\n",
       "      <td>...</td>\n",
       "      <td>...</td>\n",
       "      <td>...</td>\n",
       "    </tr>\n",
       "    <tr>\n",
       "      <th>670</th>\n",
       "      <td>3.747894</td>\n",
       "      <td>3.747894</td>\n",
       "      <td>3.747894</td>\n",
       "      <td>3.747894</td>\n",
       "      <td>3.747894</td>\n",
       "    </tr>\n",
       "    <tr>\n",
       "      <th>671</th>\n",
       "      <td>3.757894</td>\n",
       "      <td>3.757894</td>\n",
       "      <td>3.757894</td>\n",
       "      <td>3.757894</td>\n",
       "      <td>3.757894</td>\n",
       "    </tr>\n",
       "    <tr>\n",
       "      <th>672</th>\n",
       "      <td>3.767894</td>\n",
       "      <td>3.767894</td>\n",
       "      <td>3.767894</td>\n",
       "      <td>3.767894</td>\n",
       "      <td>3.767894</td>\n",
       "    </tr>\n",
       "    <tr>\n",
       "      <th>673</th>\n",
       "      <td>3.777894</td>\n",
       "      <td>3.777894</td>\n",
       "      <td>3.777894</td>\n",
       "      <td>3.777894</td>\n",
       "      <td>3.777894</td>\n",
       "    </tr>\n",
       "    <tr>\n",
       "      <th>674</th>\n",
       "      <td>3.787894</td>\n",
       "      <td>3.787894</td>\n",
       "      <td>3.787894</td>\n",
       "      <td>3.787894</td>\n",
       "      <td>3.787894</td>\n",
       "    </tr>\n",
       "  </tbody>\n",
       "</table>\n",
       "<p>675 rows × 5 columns</p>\n",
       "</div>"
      ],
      "text/plain": [
       "            0         1         2         3         4\n",
       "0   -2.952106 -2.952106 -2.952106 -2.952106 -2.952106\n",
       "1   -2.942106 -2.942106 -2.942106 -2.942106 -2.942106\n",
       "2   -2.932106 -2.932106 -2.932106 -2.932106 -2.932106\n",
       "3   -2.922106 -2.922106 -2.922106 -2.922106 -2.922106\n",
       "4   -2.912106 -2.912106 -2.912106 -2.912106 -2.912106\n",
       "..        ...       ...       ...       ...       ...\n",
       "670  3.747894  3.747894  3.747894  3.747894  3.747894\n",
       "671  3.757894  3.757894  3.757894  3.757894  3.757894\n",
       "672  3.767894  3.767894  3.767894  3.767894  3.767894\n",
       "673  3.777894  3.777894  3.777894  3.777894  3.777894\n",
       "674  3.787894  3.787894  3.787894  3.787894  3.787894\n",
       "\n",
       "[675 rows x 5 columns]"
      ]
     },
     "execution_count": 29,
     "metadata": {},
     "output_type": "execute_result"
    }
   ],
   "source": [
    "X_grid"
   ]
  },
  {
   "cell_type": "code",
   "execution_count": 30,
   "id": "fdf77091",
   "metadata": {},
   "outputs": [],
   "source": [
    "# Values for fitting line of Random Forest Regressor\n",
    "Y_grid=rf.predict(X_grid)"
   ]
  },
  {
   "cell_type": "markdown",
   "id": "ac81316c",
   "metadata": {},
   "source": [
    "# Fitting line against Principal Component 0"
   ]
  },
  {
   "cell_type": "code",
   "execution_count": 31,
   "id": "cc9609a5",
   "metadata": {},
   "outputs": [
    {
     "data": {
      "text/plain": [
       "<function matplotlib.pyplot.show(close=None, block=None)>"
      ]
     },
     "execution_count": 31,
     "metadata": {},
     "output_type": "execute_result"
    },
    {
     "data": {
      "image/png": "[encoded data removed]",
      "text/plain": [
       "<Figure size 432x288 with 1 Axes>"
      ]
     },
     "metadata": {
      "needs_background": "light"
     },
     "output_type": "display_data"
    }
   ],
   "source": [
    "plt.scatter(x['Principal Component 0'],y,color='blue')\n",
    "plt.plot(X_grid[0],Y_grid,color='red')\n",
    "plt.xlabel('Principal Component 0')\n",
    "plt.ylabel('Insurance Cost')\n",
    "plt.title('Random Forest Regressor Line')\n",
    "plt.show"
   ]
  },
  {
   "cell_type": "markdown",
   "id": "fd88f8fe",
   "metadata": {},
   "source": [
    "# Fitting line against Principal Component 1"
   ]
  },
  {
   "cell_type": "code",
   "execution_count": 32,
   "id": "706941c8",
   "metadata": {},
   "outputs": [
    {
     "data": {
      "text/plain": [
       "<function matplotlib.pyplot.show(close=None, block=None)>"
      ]
     },
     "execution_count": 32,
     "metadata": {},
     "output_type": "execute_result"
    },
    {
     "data": {
      "image/png": "[encoded data removed]",
      "text/plain": [
       "<Figure size 432x288 with 1 Axes>"
      ]
     },
     "metadata": {
      "needs_background": "light"
     },
     "output_type": "display_data"
    }
   ],
   "source": [
    "plt.scatter(x['Principal Component 1'],y,color='blue')\n",
    "plt.plot(X_grid['1'],Y_grid,color='red')\n",
    "plt.xlabel('Principal Component 1')\n",
    "plt.ylabel('Insurance Cost')\n",
    "plt.title('Random Forest Regressor Line')\n",
    "plt.show"
   ]
  },
  {
   "cell_type": "markdown",
   "id": "725d7453",
   "metadata": {},
   "source": [
    "# Fitting line against Principal Component 2"
   ]
  },
  {
   "cell_type": "code",
   "execution_count": 33,
   "id": "61d437db",
   "metadata": {},
   "outputs": [
    {
     "data": {
      "text/plain": [
       "<function matplotlib.pyplot.show(close=None, block=None)>"
      ]
     },
     "execution_count": 33,
     "metadata": {},
     "output_type": "execute_result"
    },
    {
     "data": {
      "image/png": "[encoded data removed]",
      "text/plain": [
       "<Figure size 432x288 with 1 Axes>"
      ]
     },
     "metadata": {
      "needs_background": "light"
     },
     "output_type": "display_data"
    }
   ],
   "source": [
    "plt.scatter(x['Principal Component 2'],y,color='blue')\n",
    "plt.plot(X_grid['1'],Y_grid,color='red')\n",
    "plt.xlabel('Principal Component 2')\n",
    "plt.ylabel('Insurance Cost')\n",
    "plt.title('Random Forest Regressor Line')\n",
    "plt.show"
   ]
  },
  {
   "cell_type": "markdown",
   "id": "e9b50d43",
   "metadata": {},
   "source": [
    "# Fitting line against Principal Component 3"
   ]
  },
  {
   "cell_type": "code",
   "execution_count": 34,
   "id": "c64decea",
   "metadata": {},
   "outputs": [
    {
     "data": {
      "text/plain": [
       "<function matplotlib.pyplot.show(close=None, block=None)>"
      ]
     },
     "execution_count": 34,
     "metadata": {},
     "output_type": "execute_result"
    },
    {
     "data": {
      "image/png": "[encoded data removed]",
      "text/plain": [
       "<Figure size 432x288 with 1 Axes>"
      ]
     },
     "metadata": {
      "needs_background": "light"
     },
     "output_type": "display_data"
    }
   ],
   "source": [
    "plt.scatter(x['Principal Component 3'],y,color='blue')\n",
    "plt.plot(X_grid['1'],Y_grid,color='red')\n",
    "plt.xlabel('Principal Component 3')\n",
    "plt.ylabel('Insurance Cost')\n",
    "plt.title('Random Forest Regressor Line')\n",
    "plt.show"
   ]
  },
  {
   "cell_type": "markdown",
   "id": "70633a3b",
   "metadata": {},
   "source": [
    "# Fitting line against Principal Component 4"
   ]
  },
  {
   "cell_type": "code",
   "execution_count": 35,
   "id": "d469da5e",
   "metadata": {},
   "outputs": [
    {
     "data": {
      "text/plain": [
       "<function matplotlib.pyplot.show(close=None, block=None)>"
      ]
     },
     "execution_count": 35,
     "metadata": {},
     "output_type": "execute_result"
    },
    {
     "data": {
      "image/png": "[encoded data removed]",
      "text/plain": [
       "<Figure size 432x288 with 1 Axes>"
      ]
     },
     "metadata": {
      "needs_background": "light"
     },
     "output_type": "display_data"
    }
   ],
   "source": [
    "plt.scatter(x['Principal Component 4'],y,color='blue')\n",
    "plt.plot(X_grid['1'],Y_grid,color='red')\n",
    "plt.xlabel('Principal Component 4')\n",
    "plt.ylabel('Insurance Cost')\n",
    "plt.title('Random Forest Regressor Line')\n",
    "plt.show"
   ]
  },
  {
   "cell_type": "markdown",
   "id": "64c9738a",
   "metadata": {},
   "source": [
    "# Actual vs Predicted values"
   ]
  },
  {
   "cell_type": "code",
   "execution_count": 36,
   "id": "e2511e70",
   "metadata": {},
   "outputs": [
    {
     "data": {
      "image/png": "[encoded data removed]",
      "text/plain": [
       "<Figure size 720x720 with 1 Axes>"
      ]
     },
     "metadata": {
      "needs_background": "light"
     },
     "output_type": "display_data"
    }
   ],
   "source": [
    "plt.figure(figsize=(10,10))\n",
    "plt.scatter(Y_test,Y_pred,c='crimson')\n",
    "p1=max(max(Y_pred),max(Y_test))\n",
    "p2=min(min(Y_pred),min(Y_test))\n",
    "plt.plot([p1,p2],[p1,p2],'b-')\n",
    "plt.xlabel('True Values')\n",
    "plt.ylabel('Predictions')\n",
    "plt.axis('equal')\n",
    "plt.show()\n"
   ]
  }
 ],
 "metadata": {
  "kernelspec": {
   "display_name": "Python 3",
   "language": "python",
   "name": "python3"
  },
  "language_info": {
   "codemirror_mode": {
    "name": "ipython",
    "version": 3
   },
   "file_extension": ".py",
   "mimetype": "text/x-python",
   "name": "python",
   "nbconvert_exporter": "python",
   "pygments_lexer": "ipython3",
   "version": "3.8.8"
  }
 },
 "nbformat": 4,
 "nbformat_minor": 5
}
